{
 "cells": [
  {
   "cell_type": "markdown",
   "metadata": {},
   "source": [
    "# INTRODUCTION\n",
    "\n",
    "In this article, I will explain and implement the well known Traveling Salesman Problem aka TSP with special focus on subtour elimination methods. We will use python to implement the  MILP formulation.The dataset contains the coordinates of various cities of India. The aim is to find a shortest path that cover all cities. We will cover the  following things in the article\n",
    "\n",
    "\n",
    "1. **Input the data and visualize the problem**<br/><br/>\n",
    "2. **Model TSP as MILP formulation w/o Subtour contraints**<br/><br/>\n",
    "3. **Implement Subtour Elimination Method 1: MTZ's Approach**<br/><br/>\n",
    "\n",
    "4. **Implement Subtour Elimination Method 2: DFJ's Approach**<br/><br/>\n",
    "5. **Compare  MTZ's formulation and DFJ's formulation**<br/><br/>\n",
    "6. **Conclusion**<br/><br/>\n",
    "\n"
   ]
  },
  {
   "cell_type": "markdown",
   "metadata": {},
   "source": [
    "# 1 Input the data and  problem visualization"
   ]
  },
  {
   "cell_type": "markdown",
   "metadata": {},
   "source": [
    "The csv file *\"tsp_city_data.csv\"* contains the names of cities in India with thier latitute and longitute information. The first city *\"Delhi\"* is assumed to be starting point of trip (depot). The data input to TSP model is the distance matrix which stores the distance (or travel time or cost) from each city (location) to every other city. Thus, for a traveling salesman problem for *N* cities (location), the distance matrix is of size *N x N*.\n",
    "The varible * no_of_locs* in the code is used to define the first n no. of cities we want to include in our TSP problem data. The value is set 20 for now.  The pyhton *pandas* library is used to read csv file and distance matrix \"*dis_mat*\"."
   ]
  },
  {
   "cell_type": "code",
   "execution_count": 38,
   "metadata": {
    "collapsed": true
   },
   "outputs": [],
   "source": [
    "#import libraries\n",
    "%matplotlib inline\n",
    "import pulp\n",
    "import pandas as pd\n",
    "from scipy.spatial import distance_matrix\n",
    "from matplotlib import pyplot as plt\n",
    "import time\n",
    "import copy"
   ]
  },
  {
   "cell_type": "code",
   "execution_count": 39,
   "metadata": {
    "collapsed": true
   },
   "outputs": [],
   "source": [
    "#This function takes locations as input and plot a scatter plot\n",
    "def plot_fig(loc,heading=\"plot\"):\n",
    "\n",
    "    plt.figure(figsize=(10,10))\n",
    "    for i,row in loc.iterrows():\n",
    "        if i==0:\n",
    "            plt.scatter(row[\"x\"],row[\"y\"],c='r')\n",
    "            plt.text(row[\"x\"]+0.2, row[\"y\"]+0.2, 'DELHI (depot) ')\n",
    "        else:\n",
    "            plt.scatter(row[\"x\"], row[\"y\"], c='black')\n",
    "            plt.text(row[\"x\"] + 0.2, row[\"y\"] + 0.2,full_data.loc[i]['CITy'] )\n",
    "        plt.ylim(6,36)\n",
    "        plt.xlim(66,96)\n",
    "        plt.title(heading)\n",
    "# this function takes route plan as input and return the ordered routes and subtours, if present\n",
    "def get_plan(r0):\n",
    "    r=copy.copy(r0)\n",
    "    route = []\n",
    "    while len(r) != 0:\n",
    "        plan = [r[0]]\n",
    "        del (r[0])\n",
    "        l = 0\n",
    "        while len(plan) > l:\n",
    "            l = len(plan)\n",
    "            for i, j in enumerate(r):\n",
    "                if plan[-1][1] == j[0]:\n",
    "                    plan.append(j)\n",
    "                    del (r[i])\n",
    "        route.append(plan)\n",
    "    return(route)\n"
   ]
  },
  {
   "cell_type": "code",
   "execution_count": 40,
   "metadata": {},
   "outputs": [
    {
     "name": "stdout",
     "output_type": "stream",
     "text": [
      "----------data--------------\n",
      "       CITy        x        y\n",
      "0     Delhi  77.2300  28.6600\n",
      "1    Rājkot  70.7984  22.2969\n",
      "2    Nāgpur  79.0831  21.1539\n",
      "3   Kolkāta  88.3378  22.5411\n",
      "4  Agartala  91.2667  23.8333\n",
      "5    Dispur  91.7700  26.1500\n",
      "-----------------------------\n"
     ]
    },
    {
     "data": {
      "image/png": "[encoded data removed]",
      "text/plain": [
       "<matplotlib.figure.Figure at 0x7ff2bee3b2b0>"
      ]
     },
     "metadata": {},
     "output_type": "display_data"
    }
   ],
   "source": [
    "# set no of cities\n",
    "no_of_locs=6\n",
    "data=pd.read_csv(\"tsp_city_data.csv\")\n",
    "full_data=data.iloc[0:no_of_locs,:]\n",
    "d=full_data[['x','y']]\n",
    "dis_mat=pd.DataFrame(distance_matrix(d.values,d.values),\\\n",
    "                       index=d.index,columns=d.index)\n",
    "print(\"----------data--------------\")\n",
    "print(full_data)\n",
    "print(\"-----------------------------\")\n",
    "plot_fig(d,heading=\"Problem Visualization\")\n",
    "   \n",
    "plt.show()\n"
   ]
  },
  {
   "cell_type": "markdown",
   "metadata": {},
   "source": [
    "# 2 Model TSP in  MILP  without Subtour elimination constraints\n",
    "\n",
    "TSP problem can be modeled as Mixed Integer Linear Program. The LP Model is exlained as follows<Br\\><Br\\>\n",
    "**Data** <Br\\><Br\\>\n",
    "N= Number of location including depot (starting point) <Br\\>\n",
    "$C_{i,j}$ = Edge cost from node i to node j  where i,j= [1...N]<Br\\><BR\\>\n",
    "**Decision Variable**<Br\\> <Br\\>\n",
    "$x_{i,j}$ = 1 if solution has direct path from node i to j, otherwise 0 <Br\\>\n",
    "\n",
    "\n",
    "The LP model is formilated as follows<Br\\>\n",
    "\n",
    "### MIN          $C_{i,j}$  $x_{i,j} \\;\\;\\;\\;\\;\\;\\;\\;\\;\\;\\;\\;\\;\\;\\;\\;\\;\\;(1)$\n",
    "s.t <Br\\><Br\\>\n",
    "$\\sum_{j=1}^{N} x_{i,j} = 1 \\;\\;\\;\\;\\;\\;\\;\\;\\;  i ={1...N} \\;\\;\\;\\;\\;\\;\\;\\;\\; (2)$<Br\\> <Br\\>\n",
    "$\\sum_{i=1}^{N} x_{i,j} = 1  \\;\\;\\;\\;\\;\\;\\;\\;\\; j ={1...N} \\;\\;\\;\\;\\;\\;\\;\\;\\; (3)$<Br\\> <Br\\>\n",
    "$ x_{i,i} = 0  \\;\\;\\;\\;\\;\\;\\;\\;\\; i ={1...N} \\;\\;\\;\\;\\;\\;\\;\\;\\; (4)$<Br\\> <Br\\>\n",
    "\n",
    "The objective (1) minimize the cost of tour. Constraints (2) and (3) ensures that for each node, there is only one outflow and inflow edge respectively. Thus, ach node is visited only once. Constraint (3) restrict outflow to one's own node.\n",
    "\n",
    "\n",
    "\n",
    "In this article, python PuLP library is used for implementing MILP model in python. PuLP is an LP modeler written in Python. PuLP can call variety of LP solvers like CBC, CPLEX, GUROBI, SCIP to solve linear problems.It can be installed from the link https://pypi.org/project/PuLP/. The CBC solver is preinstalled in the PuLP library while one  has to install other solvers like gurobi, cplex  separately to use in PuLP. In this implementation CBC is used as LP solver.\n",
    "<br/><br/>\n",
    "\n"
   ]
  },
  {
   "cell_type": "code",
   "execution_count": 41,
   "metadata": {},
   "outputs": [
    {
     "name": "stdout",
     "output_type": "stream",
     "text": [
      "-----------------\n",
      "1 Optimal 35.694391065563096\n",
      "[[(0, 2), (2, 1), (1, 0)], [(3, 5), (5, 4), (4, 3)]]\n",
      "[(0, 2), (1, 0), (2, 1), (3, 5), (4, 3), (5, 4)]\n"
     ]
    }
   ],
   "source": [
    "model=pulp.LpProblem('tsp',pulp.LpMinimize)\n",
    "#define variable\n",
    "x=pulp.LpVariable.dicts(\"x\",((i,j) for i in range(no_of_locs) \\\n",
    "                             for j in range(no_of_locs)),\\\n",
    "                            cat='Binary')\n",
    "\n",
    "#set objective\n",
    "model+=pulp.lpSum(dis_mat[i][j]* x[i,j] for i in range(no_of_locs) \\\n",
    "                      for j in range(no_of_locs))\n",
    "# st constraints\n",
    "for i in range(no_of_locs):\n",
    "    model+=x[i,i]==0\n",
    "    model+=pulp.lpSum(x[i,j] for j in range(no_of_locs))==1\n",
    "    model += pulp.lpSum(x[j, i] for j in range(no_of_locs)) == 1\n",
    "\n",
    "status=model.solve()\n",
    "#status=model.solver()\n",
    "print(\"-----------------\")\n",
    "print(status,pulp.LpStatus[status],pulp.value(model.objective))\n",
    "route=[(i,j) for i in range(no_of_locs) \\\n",
    "           for j in range(no_of_locs) if pulp.value(x[i,j])==1]\n",
    "\n",
    "print(get_plan(route))\n",
    "print(route)"
   ]
  },
  {
   "cell_type": "code",
   "execution_count": 42,
   "metadata": {},
   "outputs": [
    {
     "data": {
      "image/png": "[encoded data removed]",
      "text/plain": [
       "<matplotlib.figure.Figure at 0x7ff2beca8978>"
      ]
     },
     "metadata": {},
     "output_type": "display_data"
    }
   ],
   "source": [
    "\n",
    "plot_fig(d,heading=\"solution Visualization\")\n",
    "arrowprops = dict(arrowstyle='->', connectionstyle='arc3', edgecolor='blue')\n",
    "for i, j in route:\n",
    "    plt.annotate('', xy=[d.iloc[j]['x'], d.iloc[j]['y']],\\\n",
    "                      xytext=[d.iloc[i]['x'], d.iloc[i]['y']],\\\n",
    "                     arrowprops=arrowprops)"
   ]
  },
  {
   "cell_type": "markdown",
   "metadata": {},
   "source": [
    "![image info](./not_expected.jpg)"
   ]
  },
  {
   "cell_type": "markdown",
   "metadata": {},
   "source": [
    "The optimal solution given by the LP model has subtours i.e <BR\\>\n",
    "1. **Tour 1 :** Delhi > Nagpur > Rajkot\n",
    "2. **Tour 2 :** Kolkata > Dispur > Agartala\n",
    "\n",
    "The solution given by th model has 2 tours but what required is the singlt tour that starts with depot (Delhi) and visit all locations one by one and ends at Delhi. To solve this problem and to get desired single tour, the sobtour elimination constraints need to be added in the LP Model. <Br\\>\n",
    "\n",
    "There are 2 well known formualtions DSF and MTZ (named after their authors). This atile cover both the ideas and the implementation in python.\n",
    "\n"
   ]
  },
  {
   "cell_type": "markdown",
   "metadata": {},
   "source": [
    "# 3. MTZ Method for subtour elimination\n",
    "This formulation was proposed by Miller, Tucker, Zemlin. To eliminate subtours, decision variables representing times at which a location is visited is added. Variable for all locations except depot node are added.\n",
    "$t_{i}$ = time at which location i is visited , i =[2,...N]\n",
    "Finally what is required the constraint <Br\\><Br\\>\n",
    "$ t_{j}$ > $t_{i} \\;\\;\\;\\;\\;\\;\\;\\; if \\;\\;x_{i,j} =1$ \n",
    "which can be formulated as LP constraints as follows <Br\\>\n",
    "\n",
    "$t_{j} \\geq t_{i} - B(1-x_{i,j})  \\;\\;\\;\\;\\;\\;\\;\\;\\;\\;\\;\\;\\; (5)\\;\\;\\;\\;\\;$\n",
    "for some large value of B\n",
    "\n",
    "### How does constraint (5) remove subtours ?\n",
    "Lets takes an previous example and take the subtour Kolkata (k) > Dispur(d) > Agartala(a) <Br\\>\n",
    "so, $x_{k,d}=1$, $x_{d,a}=1$, $x_{a,k}=1$\n",
    "Now as per constraint (5)\n",
    "\n",
    "$t_{d} > t_{k}\\;\\;\\;\\;\\;\\;\\;\\;\\;\\;\\;\\;\\; (6)$, <Br\\>\n",
    "$t_{a} >  t_{d}\\;\\;\\;\\;\\;\\;\\;\\;\\;\\;\\;\\;\\; (7)$, <Br\\>\n",
    "$t_{k} > t_{a}\\;\\;\\;\\;\\;\\;\\;\\;\\;\\;\\;\\;\\; (8)$ <Br\\>\n",
    "from (6) and (7) $\\;\\;\\;t_{a} > t_{k}$ but as per constraint (8) $\\;\\;\\;\\;t_{k} > t_{a}$  which is not possible.<Br\\>\n",
    "**So adding constraint (5) will eliminate the sobtour.**\n",
    "\n",
    "The complete Lp model is formulated as follows <Br\\><Br\\>\n",
    "**Data** <Br\\><Br\\>\n",
    "N= Number of location including depot (starting point) <Br\\>\n",
    "$C_{i,j}$ = Edge cost from node i to node j  where i,j= [1...N]<Br\\><BR\\>\n",
    "**Decision Variable**<Br\\> <Br\\>\n",
    "$x_{i,j}$ = 1 if solution has direct path from node i to j, otherwise 0 <Br\\>\n",
    "$t_{i}$ = time at which location i is visited , i =[2,...N]\n",
    "\n",
    "\n",
    "The LP model is formilated as follows<Br\\>\n",
    "\n",
    "### MIN          $C_{i,j}$  $x_{i,j} \\;\\;\\;\\;\\;\\;\\;\\;\\;\\;\\;\\;\\;\\;\\;\\;\\;\\;(9)$\n",
    "s.t <Br\\><Br\\>\n",
    "$\\sum_{j=1}^{N} x_{i,j} = 1 \\;\\;\\;\\;\\;\\;\\;\\;\\;  i ={1...N} \\;\\;\\;\\;\\;\\;\\;\\;\\; (10)$<Br\\> <Br\\>\n",
    "$\\sum_{i=1}^{N} x_{i,j} = 1  \\;\\;\\;\\;\\;\\;\\;\\;\\; j ={1...N} \\;\\;\\;\\;\\;\\;\\;\\;\\; (11)$<Br\\> <Br\\>\n",
    "$ x_{i,i} = 0  \\;\\;\\;\\;\\;\\;\\;\\;\\; i ={1...N} \\;\\;\\;\\;\\;\\;\\;\\;\\; (12)$<Br\\> <Br\\>\n",
    "$t_{j} \\geq t_{i} - B(1-x_{i,j}) \\;\\;\\;\\;\\;i,j=[2,....N] \\;\\;\\;\\;\\;\\;\\;\\;\\;\\;\\;\\;\\; (13)$ <Br\\><Br\\>\n",
    "$x_{i,j}=\\{0,1\\}$ , $\\;\\;\\; t_{i}=[1,...N-1]\\;\\;\\;\\;\\;\\;\\;\\;\\;(14) $\n",
    "\n",
    "\n",
    "\n",
    "\n",
    "\n",
    "\n",
    "\n",
    "\n",
    "\n",
    "\n"
   ]
  },
  {
   "cell_type": "code",
   "execution_count": 43,
   "metadata": {
    "scrolled": true
   },
   "outputs": [
    {
     "name": "stdout",
     "output_type": "stream",
     "text": [
      "-----------------\n",
      "1 Optimal 47.09569513410826\n",
      "[(0, 5), (1, 0), (2, 1), (3, 2), (4, 3), (5, 4)]\n",
      "time taken by MTZ formulation =  0.142594575881958\n"
     ]
    },
    {
     "data": {
      "image/png": "[encoded data removed]",
      "text/plain": [
       "<matplotlib.figure.Figure at 0x7ff2bee3b4a8>"
      ]
     },
     "metadata": {},
     "output_type": "display_data"
    }
   ],
   "source": [
    "start_t=time.time()\n",
    "model=pulp.LpProblem('tsp',pulp.LpMinimize)\n",
    "#define variable\n",
    "x=pulp.LpVariable.dicts(\"x\",((i,j) for i in range(no_of_locs) \\\n",
    "                                for j in range(no_of_locs)),\\\n",
    "                           cat='Binary')\n",
    "\n",
    "t = pulp.LpVariable.dicts(\"t\", (i for i in range(no_of_locs)), \\\n",
    "                             lowBound=1,upBound= no_of_locs, cat='Integer')\n",
    "#set objective\n",
    "model+=pulp.lpSum(dis_mat[i][j]* x[i,j] for i in range(no_of_locs) \\\n",
    "                      for j in range(no_of_locs))\n",
    "# st constraints\n",
    "for i in range(no_of_locs):\n",
    "    model+=x[i,i]==0\n",
    "    model+=pulp.lpSum(x[i,j] for j in range(no_of_locs))==1\n",
    "    model += pulp.lpSum(x[j, i] for j in range(no_of_locs)) == 1\n",
    "#eliminate subtour\n",
    "for i in range(no_of_locs):\n",
    "    for j in range(no_of_locs):\n",
    "        if i!=j and (i!=0 and j!=0):\n",
    "            model+=t[j]>=t[i]+1 - (2*no_of_locs)*(1-x[i,j])\n",
    "status=model.solve()\n",
    "#status=model.solver()\n",
    "print(\"-----------------\")\n",
    "print(status,pulp.LpStatus[status],pulp.value(model.objective))\n",
    "route=[(i,j) for i in range(no_of_locs) \\\n",
    "           for j in range(no_of_locs) if pulp.value(x[i,j])==1]\n",
    "print(route)\n",
    "plot_fig(d,heading=\"solution Visualization\")\n",
    "arrowprops = dict(arrowstyle='->', connectionstyle='arc3', edgecolor='blue')\n",
    "for i, j in route:\n",
    "    plt.annotate('', xy=[d.iloc[j]['x'], d.iloc[j]['y']],\\\n",
    "                      xytext=[d.iloc[i]['x'], d.iloc[i]['y']],\\\n",
    "                     arrowprops=arrowprops)\n",
    "print(\"time taken by MTZ formulation = \", time.time()-start_t)"
   ]
  },
  {
   "cell_type": "markdown",
   "metadata": {},
   "source": [
    "![image info](./1.jpeg)"
   ]
  },
  {
   "cell_type": "markdown",
   "metadata": {},
   "source": [
    "![image_info](./wait.jpeg)"
   ]
  },
  {
   "cell_type": "markdown",
   "metadata": {},
   "source": [
    "# 4. DFJ Method for subtour elimination\n",
    "This formulation was proposed by  Dantzig, Fulkerson,Jhonson.To eliminate subtours, for every ser **S** of cities , add a constraint saying that the tour leaves **S** atleast once. <Br\\><Br\\>\n",
    "$\\sum_{i\\in S} \\sum_{j\\notin S}\\;\\; x_{i,j}>=1\\;\\;\\;\\;\\;\\;\\;\\; S \\subseteq \\{1,2,....n\\} ,\\;\\;\\; 1 \\leq |S| \\geq N-1   \\;\\;\\;\\;\\;\\;(15)$<Br\\><Br\\>\n",
    "\n",
    "## How does this constraint eliminate subtours?\n",
    "Lets takes an same example and take a set $S_{i}$= {kolkata, Dispur, Agartala} and the rest of the cities be represented by $s_{i}^{'}$={ Delhi(del),Rajkot(r), Nagpur(n)}<Br\\>\n",
    "Now as per constraint (15), the new constraint added is as follows <Br\\>\n",
    "$ \\sum_{i \\in s_{i}^{'}} x_{kolkata,i} \\sum_{i \\in s_{i}^{'}} x_{Dispur,i}\\sum_{i \\in s_{i}^{'}} x_{Agartala,i} \\geq 1\\;\\;\\;\\;\\;\\;\\;\\;\\;\\; (16)$ <Br\\>\n",
    "Since there is no edge going to any other node is this set (due to subtour), this equation is not satisfied for the the set $S_{i}$= {{kolkata, Dispur, Agartala}. So, by adding constraint (15), this solution becomes infeasible and all subtours will be eliminated.\n",
    "\n",
    "## Modification in DFJ Method \n",
    "\n",
    "For *N* cities,the nunber of posssible sets add up to $ 2^n$ i.e the number of constraints grow exponetially. So, Instead of adding constraints for all the possible sets, only some constraints are added. Given a solution to LP model(without having subtour elimination constraints) with subtours, one can quickly find the subset for which subtour DFS subtour constraint is eliminated. In the example above, one needs to add only 2 constraints and not $2^5$ constraints.<Br\\><Br\\>\n",
    "\n",
    "$ \\sum_{i \\in s_{i}^{'}} x_{kolkata,i} \\sum_{i \\in s_{i}^{'}} x_{Dispur,i}\\sum_{i \\in s_{i}^{'}} x_{Agartala,i} \\geq 1\\;\\;\\;\\;\\;\\;\\;\\;\\;\\; (17)$ <Br\\><Br\\>\n",
    "$ \\sum_{i \\in s_{i}^{'}} x_{Delhi,i} \\sum_{i \\in s_{i}^{'}} x_{Rajkot,i}\\sum_{i \\in s_{i}^{'}} x_{Nagpur,i} \\geq 1\\;\\;\\;\\;\\;\\;\\;\\;\\;\\; (18)$ <Br\\><Br\\>\n",
    "These constraints can also be written as<Br\\><Br\\>\n",
    "$ x_{kolkata,Dispur}+x_{Dispur,Agartala} +x_{agartala,kolkata} \\leq 3 \\;\\;\\;\\;\\;\\;\\;(19)$<Br\\>\n",
    "$ x_{Dispur,kolkata}+x_{kolkata,agartala}+x_{Agartala,Dispur}  \\leq 3 \\;\\;\\;\\;\\;\\;\\;(20)$<Br\\>\n",
    "$ x_{Delhi,Rajkot}+x_{Rajkot,Nagpur} +x_{Nagpur,Delhi} \\leq 3 \\;\\;\\;\\;\\;\\;\\;(21)$<Br\\>\n",
    "$ x_{Rajkot,Delhi}+x_{Delhi,Nagpur} +x_{Nagpur,Rajkot} \\leq 3 \\;\\;\\;\\;\\;\\;\\;(22)$<Br\\>\n",
    "\n",
    "\n",
    "\n",
    "\n",
    "\n",
    "So, the higer level algorithm is as follows<Br\\>\n",
    "### Higher level Algorithm for DFS\n",
    "step 1. Solve TSP problem with LP formulation w/o Subtour Constraints<Br\\><Br\\>\n",
    "step 2. If no subtour present in the current solution, goto step 6<Br\\><Br\\>\n",
    "step 3. Add subtour constraint **only** for the subtours present in current solution.<Br\\><Br\\>\n",
    "step 4. Solve TSP problem with newly added constraint.<Br\\><Br\\>\n",
    "step 5. goto step 2<Br\\><Br\\>\n",
    "step 6. Return the final TSP solution<Br\\><Br\\>\n",
    "\n"
   ]
  },
  {
   "cell_type": "code",
   "execution_count": 44,
   "metadata": {},
   "outputs": [
    {
     "name": "stdout",
     "output_type": "stream",
     "text": [
      "-----------------\n",
      "1 Optimal 47.095695134108254\n",
      "[[(0, 1), (1, 2), (2, 3), (3, 4), (4, 5), (5, 0)]]\n",
      "no. of times LP model is solved =  3\n",
      "subtour log (no. of subtours in each solution)) [2, 3, 1]\n",
      "Time taken by DFS formulation =  0.1761176586151123\n"
     ]
    },
    {
     "data": {
      "image/png": "[encoded data removed]",
      "text/plain": [
       "<matplotlib.figure.Figure at 0x7ff2bf0a4470>"
      ]
     },
     "metadata": {},
     "output_type": "display_data"
    }
   ],
   "source": [
    "start_t_1=time.time()\n",
    "model=pulp.LpProblem('tsp',pulp.LpMinimize)\n",
    "#define variable\n",
    "x=pulp.LpVariable.dicts(\"x\",((i,j) for i in range(no_of_locs) \\\n",
    "                                for j in range(no_of_locs)),\\\n",
    "                           cat='Binary')\n",
    "\n",
    "\n",
    "#set objective\n",
    "model+=pulp.lpSum(dis_mat[i][j]* x[i,j] for i in range(no_of_locs) \\\n",
    "                      for j in range(no_of_locs))\n",
    "# st constraints\n",
    "for i in range(no_of_locs):\n",
    "    model+=x[i,i]==0\n",
    "    model+=pulp.lpSum(x[i,j] for j in range(no_of_locs))==1\n",
    "    model += pulp.lpSum(x[j, i] for j in range(no_of_locs)) == 1\n",
    "    \n",
    "status=model.solve()\n",
    "\n",
    "\n",
    "route=[(i,j) for i in range(no_of_locs) \\\n",
    "           for j in range(no_of_locs) if pulp.value(x[i,j])==1]\n",
    "route_plan=get_plan(route)\n",
    "subtour=[]\n",
    "while len(route_plan)!=1:\n",
    "    for i in range(len(route_plan)):\n",
    "            #print(route_plan[i])\n",
    "\n",
    "        model+=pulp.lpSum(x[route_plan[i][j][0],route_plan[i][j][1]]\\\n",
    "                              for j in range(len(route_plan[i])))<=\\\n",
    "                              len(route_plan[i])-1\n",
    "    status=model.solve()\n",
    "    route = [(i, j) for i in range(no_of_locs) \\\n",
    "                 for j in range(no_of_locs) if pulp.value(x[i, j]) == 1]\n",
    "\n",
    "    route_plan = get_plan(route)\n",
    "    \n",
    "    subtour.append(len(route_plan))\n",
    "print(\"-----------------\")\n",
    "print(status,pulp.LpStatus[status],pulp.value(model.objective))\n",
    "print(route_plan)\n",
    "print(\"no. of times LP model is solved = \",len(subtour))\n",
    "print(\"subtour log (no. of subtours in each solution))\",subtour)\n",
    "print(\"Time taken by DFS formulation = \", time.time()-start_t_1)\n",
    "plot_fig(d,heading=\"solution Visualization\")\n",
    "arrowprops = dict(arrowstyle='->', connectionstyle='arc3', edgecolor='blue')\n",
    "for i, j in route_plan[0]:\n",
    "    plt.annotate('', xy=[d.iloc[j]['x'], d.iloc[j]['y']],\\\n",
    "                     xytext=[d.iloc[i]['x'], d.iloc[i]['y']],\n",
    "                     arrowprops=arrowprops)\n",
    "plt.show()\n",
    "\n",
    "#print(\"total time = \",time.time()-start)\n",
    "\n",
    "\n"
   ]
  },
  {
   "cell_type": "markdown",
   "metadata": {},
   "source": [
    "# Compare MTZ's Formulation vs DFJ's formulation\n",
    "Since two approaches for subtour elimination have been discussed in the this articel, its time to compare the two.\n",
    "MTZ's approach introduces $n^2$ constraints  (one for each pair (i,j) where i,j=[1..n]) while DFJ's apporach introduce subtour constraints for all possible sets of locations i.e $2^n$ for n locations. Thus, MTZ's apporach adds polynomial number of constraints while DFJ's approach introduce exponential number of constraints.<Br\\> <BR\\>\n",
    "\n",
    "In terms of decision variables, MTZ approach introduces *n* new decision variables ($t_{i}$ for i =[1..n]).ON the other hand, DFS introduces no new decision variable. MTZ's approach has to be solved only once to get an optimal solution While DFJ is generally implemented as modified version and it is solved iterativey ( i.e LP model has to be solved multiple times with new subtour constraints added every time).<Br\\><Br\\>\n",
    "\n",
    "There is no clear winner among the two and for some problems DFJ gives solution faster than MTZ  and for some problems MTZ is faster. But When DHJ has an efficient branch and bound approach due to which it become more efficient than MTZ. Also, MTZ’s formulation is weakeri.e the feasible region has the same integer points, but includes more fractional points.\n",
    "\n",
    "\n",
    "\n",
    "\n"
   ]
  },
  {
   "cell_type": "markdown",
   "metadata": {},
   "source": [
    "# Conclusion\n",
    "\n",
    "In this article, ILP formulation of TSP is explained with special focus on subtour elimination approaches. TSP problem is a special case of Vehicle Routing Problem (VRP) with no. of vehicle equal to 1. But, subtour elimination is a core issue in VRP as well which is solved by using same techniques. "
   ]
  }
 ],
 "metadata": {
  "kernelspec": {
   "display_name": "Python 3",
   "language": "python",
   "name": "python3"
  },
  "language_info": {
   "codemirror_mode": {
    "name": "ipython",
    "version": 3
   },
   "file_extension": ".py",
   "mimetype": "text/x-python",
   "name": "python",
   "nbconvert_exporter": "python",
   "pygments_lexer": "ipython3",
   "version": "3.6.3"
  }
 },
 "nbformat": 4,
 "nbformat_minor": 2
}
